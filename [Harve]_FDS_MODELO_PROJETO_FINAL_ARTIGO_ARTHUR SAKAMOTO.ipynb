{
  "nbformat": 4,
  "nbformat_minor": 0,
  "metadata": {
    "colab": {
      "name": "Cópia de [Harve] FDS - MODELO PROJETO FINAL/ARTIGO",
      "provenance": [],
      "collapsed_sections": [],
      "include_colab_link": true
    },
    "kernelspec": {
      "name": "python3",
      "display_name": "Python 3"
    }
  },
  "cells": [
    {
      "cell_type": "markdown",
      "metadata": {
        "id": "view-in-github",
        "colab_type": "text"
      },
      "source": [
        "<a href=\"https://colab.research.google.com/github/arthursaka/datasets/blob/main/%5BHarve%5D_FDS_MODELO_PROJETO_FINAL_ARTIGO_ARTHUR%20SAKAMOTO.ipynb\" target=\"_parent\"><img src=\"https://colab.research.google.com/assets/colab-badge.svg\" alt=\"Open In Colab\"/></a>"
      ]
    },
    {
      "cell_type": "markdown",
      "metadata": {
        "id": "SND1MuwjwaSF"
      },
      "source": [
        "#**Artigo de conclusão da Formação em Cientista de Dados**"
      ]
    },
    {
      "cell_type": "markdown",
      "metadata": {
        "id": "xUKhND7dxVxR"
      },
      "source": [
        "NOME DO ALUNO - Arthur Sakamoto\n",
        "\n",
        "\n"
      ]
    },
    {
      "cell_type": "markdown",
      "metadata": {
        "id": "8GBfGaZXOG8o"
      },
      "source": [
        "TURMA - T06\n",
        "\n"
      ]
    },
    {
      "cell_type": "markdown",
      "metadata": {
        "id": "gcqG_U9Fw9sM"
      },
      "source": [
        "# **Resumo**\n",
        "\n"
      ]
    },
    {
      "cell_type": "markdown",
      "metadata": {
        "id": "0F68MZqfxdyc"
      },
      "source": [
        "O dataset oferece dados coletados a partir de uma série de perguntas aos entrevistados que dão notas de 0 a 4 para a importância dada a cada afirmação. A resposta se houve divórcio ou não é sabida, portanto um modelo supervisionado. Minha motivação para o projeto foi de aplicar o conhecimento obtido em aula, usando os modelos passados dividindo a amostra em treino e teste, treinar cada modelo e testar sua acurácia, precisão e sensibilidade para finalmente comparar os resultados para ver qual modelo oferece a melhor previsão.\n"
      ]
    },
    {
      "cell_type": "markdown",
      "metadata": {
        "id": "xHXSTbqxw-ZS"
      },
      "source": [
        "# **Objetivo**"
      ]
    },
    {
      "cell_type": "markdown",
      "metadata": {
        "id": "11xoC1_HOYWC"
      },
      "source": [
        "O objetivo do projeto nada mais é do que aplicação prática das ferramentas aprendidas no curso, entendendo e fixando o raciocínio por trás do processo de machine learning, respondendo a uma questão de probabilidade de alguém se divorciar dependendo das respostas fornecidas pelo questionário. \n"
      ]
    },
    {
      "cell_type": "markdown",
      "metadata": {
        "id": "u0oDPcrHYJ7g"
      },
      "source": [
        "# **Execução do projeto**\n",
        "\n",
        "\n",
        "\n",
        "\n",
        "\n",
        "\n",
        "\n",
        "\n"
      ]
    },
    {
      "cell_type": "markdown",
      "metadata": {
        "id": "NBdfiXTIOiid"
      },
      "source": [
        "Forneça detalhes das etapas e ferramentas para o projeto. Quais bases de dados foram usadas? Quais dados elas continham? Qual foram os critérios de seleção do Modelo, se houver um modelo. \n"
      ]
    },
    {
      "cell_type": "markdown",
      "metadata": {
        "id": "4J-En93mbav2"
      },
      "source": [
        "Informação dos atributos:\n",
        "\n",
        "1. If one of us apologizes when our discussion deteriorates, the discussion ends.\n",
        "2. I know we can ignore our differences, even if things get hard sometimes.\n",
        "3. When we need it, we can take our discussions with my spouse from the beginning and correct it.\n",
        "4. When I discuss with my spouse, to contact him will eventually work.\n",
        "5. The time I spent with my wife is special for us.\n",
        "6. We don't have time at home as partners.\n",
        "7. We are like two strangers who share the same environment at home rather than family.\n",
        "8. I enjoy our holidays with my wife.\n",
        "9. I enjoy traveling with my wife.\n",
        "10. Most of our goals are common to my spouse.\n",
        "11. I think that one day in the future, when I look back, I see that my spouse and I have been in harmony with each other.\n",
        "12. My spouse and I have similar values in terms of personal freedom.\n",
        "13. My spouse and I have similar sense of entertainment.\n",
        "14. Most of our goals for people (children, friends, etc.) are the same.\n",
        "15. Our dreams with my spouse are similar and harmonious.\n",
        "16. We're compatible with my spouse about what love should be.\n",
        "17. We share the same views about being happy in our life with my spouse\n",
        "18. My spouse and I have similar ideas about how marriage should be\n",
        "19. My spouse and I have similar ideas about how roles should be in marriage\n",
        "20. My spouse and I have similar values in trust.\n",
        "21. I know exactly what my wife likes.\n",
        "22. I know how my spouse wants to be taken care of when she/he sick.\n",
        "23. I know my spouse's favorite food.\n",
        "24. I can tell you what kind of stress my spouse is facing in her/his life.\n",
        "25. I have knowledge of my spouse's inner world.\n",
        "26. I know my spouse's basic anxieties.\n",
        "27. I know what my spouse's current sources of stress are.\n",
        "28. I know my spouse's hopes and wishes.\n",
        "29. I know my spouse very well.\n",
        "30. I know my spouse's friends and their social relationships.\n",
        "31. I feel aggressive when I argue with my spouse.\n",
        "32. When discussing with my spouse, I usually use expressions such as ‘you always’ or ‘you never’ .\n",
        "33. I can use negative statements about my spouse's personality during our discussions.\n",
        "34. I can use offensive expressions during our discussions.\n",
        "35. I can insult my spouse during our discussions.\n",
        "36. I can be humiliating when we discussions.\n",
        "37. My discussion with my spouse is not calm.\n",
        "38. I hate my spouse's way of open a subject.\n",
        "39. Our discussions often occur suddenly.\n",
        "40. We're just starting a discussion before I know what's going on.\n",
        "41. When I talk to my spouse about something, my calm suddenly breaks.\n",
        "42. When I argue with my spouse, ı only go out and I don't say a word.\n",
        "43. I mostly stay silent to calm the environment a little bit.\n",
        "44. Sometimes I think it's good for me to leave home for a while.\n",
        "45. I'd rather stay silent than discuss with my spouse.\n",
        "46. Even if I'm right in the discussion, I stay silent to hurt my spouse.\n",
        "47. When I discuss with my spouse, I stay silent because I am afraid of not being able to control my anger.\n",
        "48. I feel right in our discussions.\n",
        "49. I have nothing to do with what I've been accused of.\n",
        "50. I'm not actually the one who's guilty about what I'm accused of.\n",
        "51. I'm not the one who's wrong about problems at home.\n",
        "52. I wouldn't hesitate to tell my spouse about her/his inadequacy.\n",
        "53. When I discuss, I remind my spouse of her/his inadequacy.\n",
        "54. I'm not afraid to tell my spouse about her/his incompetence.\n",
        "\n"
      ]
    },
    {
      "cell_type": "markdown",
      "metadata": {
        "id": "bj2di27CRxz2"
      },
      "source": [
        "* Visualização da Base de Dados Fornecida:"
      ]
    },
    {
      "cell_type": "code",
      "metadata": {
        "id": "2F3P0-o2ZO1e",
        "colab": {
          "base_uri": "https://localhost:8080/",
          "height": 223
        },
        "outputId": "2ba9a5cc-9763-49de-9d94-c5bab10f67fa"
      },
      "source": [
        "import pandas as pd\n",
        "\n",
        "df = pd.read_csv('https://raw.githubusercontent.com/arthursaka/datasets/main/divorce.csv.csv', delimiter=';')\n",
        "df.head()"
      ],
      "execution_count": 10,
      "outputs": [
        {
          "output_type": "execute_result",
          "data": {
            "text/html": [
              "<div>\n",
              "<style scoped>\n",
              "    .dataframe tbody tr th:only-of-type {\n",
              "        vertical-align: middle;\n",
              "    }\n",
              "\n",
              "    .dataframe tbody tr th {\n",
              "        vertical-align: top;\n",
              "    }\n",
              "\n",
              "    .dataframe thead th {\n",
              "        text-align: right;\n",
              "    }\n",
              "</style>\n",
              "<table border=\"1\" class=\"dataframe\">\n",
              "  <thead>\n",
              "    <tr style=\"text-align: right;\">\n",
              "      <th></th>\n",
              "      <th>Atr1</th>\n",
              "      <th>Atr2</th>\n",
              "      <th>Atr3</th>\n",
              "      <th>Atr4</th>\n",
              "      <th>Atr5</th>\n",
              "      <th>Atr6</th>\n",
              "      <th>Atr7</th>\n",
              "      <th>Atr8</th>\n",
              "      <th>Atr9</th>\n",
              "      <th>Atr10</th>\n",
              "      <th>Atr11</th>\n",
              "      <th>Atr12</th>\n",
              "      <th>Atr13</th>\n",
              "      <th>Atr14</th>\n",
              "      <th>Atr15</th>\n",
              "      <th>Atr16</th>\n",
              "      <th>Atr17</th>\n",
              "      <th>Atr18</th>\n",
              "      <th>Atr19</th>\n",
              "      <th>Atr20</th>\n",
              "      <th>Atr21</th>\n",
              "      <th>Atr22</th>\n",
              "      <th>Atr23</th>\n",
              "      <th>Atr24</th>\n",
              "      <th>Atr25</th>\n",
              "      <th>Atr26</th>\n",
              "      <th>Atr27</th>\n",
              "      <th>Atr28</th>\n",
              "      <th>Atr29</th>\n",
              "      <th>Atr30</th>\n",
              "      <th>Atr31</th>\n",
              "      <th>Atr32</th>\n",
              "      <th>Atr33</th>\n",
              "      <th>Atr34</th>\n",
              "      <th>Atr35</th>\n",
              "      <th>Atr36</th>\n",
              "      <th>Atr37</th>\n",
              "      <th>Atr38</th>\n",
              "      <th>Atr39</th>\n",
              "      <th>Atr40</th>\n",
              "      <th>Atr41</th>\n",
              "      <th>Atr42</th>\n",
              "      <th>Atr43</th>\n",
              "      <th>Atr44</th>\n",
              "      <th>Atr45</th>\n",
              "      <th>Atr46</th>\n",
              "      <th>Atr47</th>\n",
              "      <th>Atr48</th>\n",
              "      <th>Atr49</th>\n",
              "      <th>Atr50</th>\n",
              "      <th>Atr51</th>\n",
              "      <th>Atr52</th>\n",
              "      <th>Atr53</th>\n",
              "      <th>Atr54</th>\n",
              "      <th>Class</th>\n",
              "    </tr>\n",
              "  </thead>\n",
              "  <tbody>\n",
              "    <tr>\n",
              "      <th>0</th>\n",
              "      <td>2</td>\n",
              "      <td>2</td>\n",
              "      <td>4</td>\n",
              "      <td>1</td>\n",
              "      <td>0</td>\n",
              "      <td>0</td>\n",
              "      <td>0</td>\n",
              "      <td>0</td>\n",
              "      <td>0</td>\n",
              "      <td>0</td>\n",
              "      <td>1</td>\n",
              "      <td>0</td>\n",
              "      <td>1</td>\n",
              "      <td>1</td>\n",
              "      <td>0</td>\n",
              "      <td>1</td>\n",
              "      <td>0</td>\n",
              "      <td>0</td>\n",
              "      <td>0</td>\n",
              "      <td>1</td>\n",
              "      <td>0</td>\n",
              "      <td>0</td>\n",
              "      <td>0</td>\n",
              "      <td>0</td>\n",
              "      <td>0</td>\n",
              "      <td>0</td>\n",
              "      <td>0</td>\n",
              "      <td>0</td>\n",
              "      <td>0</td>\n",
              "      <td>1</td>\n",
              "      <td>1</td>\n",
              "      <td>2</td>\n",
              "      <td>1</td>\n",
              "      <td>2</td>\n",
              "      <td>0</td>\n",
              "      <td>1</td>\n",
              "      <td>2</td>\n",
              "      <td>1</td>\n",
              "      <td>3</td>\n",
              "      <td>3</td>\n",
              "      <td>2</td>\n",
              "      <td>1</td>\n",
              "      <td>1</td>\n",
              "      <td>2</td>\n",
              "      <td>3</td>\n",
              "      <td>2</td>\n",
              "      <td>1</td>\n",
              "      <td>3</td>\n",
              "      <td>3</td>\n",
              "      <td>3</td>\n",
              "      <td>2</td>\n",
              "      <td>3</td>\n",
              "      <td>2</td>\n",
              "      <td>1</td>\n",
              "      <td>1</td>\n",
              "    </tr>\n",
              "    <tr>\n",
              "      <th>1</th>\n",
              "      <td>4</td>\n",
              "      <td>4</td>\n",
              "      <td>4</td>\n",
              "      <td>4</td>\n",
              "      <td>4</td>\n",
              "      <td>0</td>\n",
              "      <td>0</td>\n",
              "      <td>4</td>\n",
              "      <td>4</td>\n",
              "      <td>4</td>\n",
              "      <td>4</td>\n",
              "      <td>3</td>\n",
              "      <td>4</td>\n",
              "      <td>0</td>\n",
              "      <td>4</td>\n",
              "      <td>4</td>\n",
              "      <td>4</td>\n",
              "      <td>4</td>\n",
              "      <td>3</td>\n",
              "      <td>2</td>\n",
              "      <td>1</td>\n",
              "      <td>1</td>\n",
              "      <td>0</td>\n",
              "      <td>2</td>\n",
              "      <td>2</td>\n",
              "      <td>1</td>\n",
              "      <td>2</td>\n",
              "      <td>0</td>\n",
              "      <td>1</td>\n",
              "      <td>1</td>\n",
              "      <td>0</td>\n",
              "      <td>4</td>\n",
              "      <td>2</td>\n",
              "      <td>3</td>\n",
              "      <td>0</td>\n",
              "      <td>2</td>\n",
              "      <td>3</td>\n",
              "      <td>4</td>\n",
              "      <td>2</td>\n",
              "      <td>4</td>\n",
              "      <td>2</td>\n",
              "      <td>2</td>\n",
              "      <td>3</td>\n",
              "      <td>4</td>\n",
              "      <td>2</td>\n",
              "      <td>2</td>\n",
              "      <td>2</td>\n",
              "      <td>3</td>\n",
              "      <td>4</td>\n",
              "      <td>4</td>\n",
              "      <td>4</td>\n",
              "      <td>4</td>\n",
              "      <td>2</td>\n",
              "      <td>2</td>\n",
              "      <td>1</td>\n",
              "    </tr>\n",
              "    <tr>\n",
              "      <th>2</th>\n",
              "      <td>2</td>\n",
              "      <td>2</td>\n",
              "      <td>2</td>\n",
              "      <td>2</td>\n",
              "      <td>1</td>\n",
              "      <td>3</td>\n",
              "      <td>2</td>\n",
              "      <td>1</td>\n",
              "      <td>1</td>\n",
              "      <td>2</td>\n",
              "      <td>3</td>\n",
              "      <td>4</td>\n",
              "      <td>2</td>\n",
              "      <td>3</td>\n",
              "      <td>3</td>\n",
              "      <td>3</td>\n",
              "      <td>3</td>\n",
              "      <td>3</td>\n",
              "      <td>3</td>\n",
              "      <td>2</td>\n",
              "      <td>1</td>\n",
              "      <td>0</td>\n",
              "      <td>1</td>\n",
              "      <td>2</td>\n",
              "      <td>2</td>\n",
              "      <td>2</td>\n",
              "      <td>2</td>\n",
              "      <td>2</td>\n",
              "      <td>3</td>\n",
              "      <td>2</td>\n",
              "      <td>3</td>\n",
              "      <td>3</td>\n",
              "      <td>1</td>\n",
              "      <td>1</td>\n",
              "      <td>1</td>\n",
              "      <td>1</td>\n",
              "      <td>2</td>\n",
              "      <td>1</td>\n",
              "      <td>3</td>\n",
              "      <td>3</td>\n",
              "      <td>3</td>\n",
              "      <td>3</td>\n",
              "      <td>2</td>\n",
              "      <td>3</td>\n",
              "      <td>2</td>\n",
              "      <td>3</td>\n",
              "      <td>2</td>\n",
              "      <td>3</td>\n",
              "      <td>1</td>\n",
              "      <td>1</td>\n",
              "      <td>1</td>\n",
              "      <td>2</td>\n",
              "      <td>2</td>\n",
              "      <td>2</td>\n",
              "      <td>1</td>\n",
              "    </tr>\n",
              "    <tr>\n",
              "      <th>3</th>\n",
              "      <td>3</td>\n",
              "      <td>2</td>\n",
              "      <td>3</td>\n",
              "      <td>2</td>\n",
              "      <td>3</td>\n",
              "      <td>3</td>\n",
              "      <td>3</td>\n",
              "      <td>3</td>\n",
              "      <td>3</td>\n",
              "      <td>3</td>\n",
              "      <td>4</td>\n",
              "      <td>3</td>\n",
              "      <td>3</td>\n",
              "      <td>4</td>\n",
              "      <td>3</td>\n",
              "      <td>3</td>\n",
              "      <td>3</td>\n",
              "      <td>3</td>\n",
              "      <td>3</td>\n",
              "      <td>4</td>\n",
              "      <td>1</td>\n",
              "      <td>1</td>\n",
              "      <td>1</td>\n",
              "      <td>1</td>\n",
              "      <td>2</td>\n",
              "      <td>1</td>\n",
              "      <td>1</td>\n",
              "      <td>1</td>\n",
              "      <td>1</td>\n",
              "      <td>3</td>\n",
              "      <td>2</td>\n",
              "      <td>3</td>\n",
              "      <td>2</td>\n",
              "      <td>2</td>\n",
              "      <td>1</td>\n",
              "      <td>1</td>\n",
              "      <td>3</td>\n",
              "      <td>3</td>\n",
              "      <td>4</td>\n",
              "      <td>4</td>\n",
              "      <td>2</td>\n",
              "      <td>2</td>\n",
              "      <td>3</td>\n",
              "      <td>2</td>\n",
              "      <td>3</td>\n",
              "      <td>2</td>\n",
              "      <td>2</td>\n",
              "      <td>3</td>\n",
              "      <td>3</td>\n",
              "      <td>3</td>\n",
              "      <td>3</td>\n",
              "      <td>2</td>\n",
              "      <td>2</td>\n",
              "      <td>2</td>\n",
              "      <td>1</td>\n",
              "    </tr>\n",
              "    <tr>\n",
              "      <th>4</th>\n",
              "      <td>2</td>\n",
              "      <td>2</td>\n",
              "      <td>1</td>\n",
              "      <td>1</td>\n",
              "      <td>1</td>\n",
              "      <td>1</td>\n",
              "      <td>0</td>\n",
              "      <td>0</td>\n",
              "      <td>0</td>\n",
              "      <td>0</td>\n",
              "      <td>0</td>\n",
              "      <td>1</td>\n",
              "      <td>0</td>\n",
              "      <td>1</td>\n",
              "      <td>1</td>\n",
              "      <td>1</td>\n",
              "      <td>1</td>\n",
              "      <td>1</td>\n",
              "      <td>2</td>\n",
              "      <td>1</td>\n",
              "      <td>1</td>\n",
              "      <td>0</td>\n",
              "      <td>0</td>\n",
              "      <td>0</td>\n",
              "      <td>0</td>\n",
              "      <td>2</td>\n",
              "      <td>1</td>\n",
              "      <td>2</td>\n",
              "      <td>1</td>\n",
              "      <td>1</td>\n",
              "      <td>1</td>\n",
              "      <td>1</td>\n",
              "      <td>1</td>\n",
              "      <td>1</td>\n",
              "      <td>0</td>\n",
              "      <td>0</td>\n",
              "      <td>0</td>\n",
              "      <td>0</td>\n",
              "      <td>2</td>\n",
              "      <td>1</td>\n",
              "      <td>0</td>\n",
              "      <td>2</td>\n",
              "      <td>3</td>\n",
              "      <td>0</td>\n",
              "      <td>2</td>\n",
              "      <td>2</td>\n",
              "      <td>1</td>\n",
              "      <td>2</td>\n",
              "      <td>3</td>\n",
              "      <td>2</td>\n",
              "      <td>2</td>\n",
              "      <td>2</td>\n",
              "      <td>1</td>\n",
              "      <td>0</td>\n",
              "      <td>1</td>\n",
              "    </tr>\n",
              "  </tbody>\n",
              "</table>\n",
              "</div>"
            ],
            "text/plain": [
              "   Atr1  Atr2  Atr3  Atr4  Atr5  Atr6  ...  Atr50  Atr51  Atr52  Atr53  Atr54  Class\n",
              "0     2     2     4     1     0     0  ...      3      2      3      2      1      1\n",
              "1     4     4     4     4     4     0  ...      4      4      4      2      2      1\n",
              "2     2     2     2     2     1     3  ...      1      1      2      2      2      1\n",
              "3     3     2     3     2     3     3  ...      3      3      2      2      2      1\n",
              "4     2     2     1     1     1     1  ...      2      2      2      1      0      1\n",
              "\n",
              "[5 rows x 55 columns]"
            ]
          },
          "metadata": {},
          "execution_count": 10
        }
      ]
    },
    {
      "cell_type": "code",
      "metadata": {
        "id": "ZE8zZMilpbSf"
      },
      "source": [
        "# Retirando a resposta da base de dados\n",
        "X =  df.drop([\"Class\"],axis = 1) \n",
        "y = df[\"Class\"] "
      ],
      "execution_count": 11,
      "outputs": []
    },
    {
      "cell_type": "code",
      "metadata": {
        "id": "EzwFKon7qcC2"
      },
      "source": [
        "# Importação de uma ferramenta que divide os conjuntos (Treino e Teste)\n",
        "from sklearn.model_selection import train_test_split\n",
        "\n",
        "# Vamos utilizar 80% dos nossos dados para treinar o modelo e 20% para testar\n",
        "X_train, X_test, y_train, y_test = train_test_split(X, y, test_size=0.2, random_state=42)"
      ],
      "execution_count": 12,
      "outputs": []
    },
    {
      "cell_type": "code",
      "metadata": {
        "id": "3vdZmbK1qwqF"
      },
      "source": [
        "# Importando o pacote com o modelo de Árvore de Decisão\n",
        "from sklearn.tree import DecisionTreeClassifier\n",
        "\n",
        "# Definindo o modelo escolhido\n",
        "modelo = DecisionTreeClassifier(max_depth=4)"
      ],
      "execution_count": 13,
      "outputs": []
    },
    {
      "cell_type": "code",
      "metadata": {
        "id": "xI4F3ZRtq6Ie",
        "colab": {
          "base_uri": "https://localhost:8080/"
        },
        "outputId": "4acbd270-30ea-4114-b35a-276172bbecff"
      },
      "source": [
        "# Treinando o modelo\n",
        "modelo.fit(X_train,y_train)"
      ],
      "execution_count": 14,
      "outputs": [
        {
          "output_type": "execute_result",
          "data": {
            "text/plain": [
              "DecisionTreeClassifier(ccp_alpha=0.0, class_weight=None, criterion='gini',\n",
              "                       max_depth=4, max_features=None, max_leaf_nodes=None,\n",
              "                       min_impurity_decrease=0.0, min_impurity_split=None,\n",
              "                       min_samples_leaf=1, min_samples_split=2,\n",
              "                       min_weight_fraction_leaf=0.0, presort='deprecated',\n",
              "                       random_state=None, splitter='best')"
            ]
          },
          "metadata": {},
          "execution_count": 14
        }
      ]
    },
    {
      "cell_type": "code",
      "metadata": {
        "id": "989dLxddrJ0P"
      },
      "source": [
        "# Prever novas amostras\n",
        "y_pred = modelo.predict(X_test)"
      ],
      "execution_count": 15,
      "outputs": []
    },
    {
      "cell_type": "code",
      "metadata": {
        "id": "3YgIVQJ8rW73",
        "colab": {
          "base_uri": "https://localhost:8080/"
        },
        "outputId": "218f042c-d93f-4178-81ae-040c414bb4a4"
      },
      "source": [
        "# Avaliando a Matriz de Confusão\n",
        "import pandas as pd\n",
        "\n",
        "print(pd.crosstab(y_test, y_pred, rownames=['Real'], colnames=['Previsto'], margins=True))"
      ],
      "execution_count": 16,
      "outputs": [
        {
          "output_type": "stream",
          "name": "stdout",
          "text": [
            "Previsto   0   1  All\n",
            "Real                 \n",
            "0         13   1   14\n",
            "1          1  19   20\n",
            "All       14  20   34\n"
          ]
        }
      ]
    },
    {
      "cell_type": "code",
      "metadata": {
        "id": "ZV3gjzGkrdZo",
        "colab": {
          "base_uri": "https://localhost:8080/"
        },
        "outputId": "e13e35f7-44f4-4d21-fdff-7d47707748e7"
      },
      "source": [
        "# Outra forma de exibir as medidas de desempenho de classificação\n",
        "from sklearn.metrics import classification_report\n",
        "\n",
        "class_names = ['Classe 0', 'Classe 1']\n",
        "\n",
        "print(classification_report(y_test, y_pred, target_names=class_names))"
      ],
      "execution_count": 17,
      "outputs": [
        {
          "output_type": "stream",
          "name": "stdout",
          "text": [
            "              precision    recall  f1-score   support\n",
            "\n",
            "    Classe 0       0.93      0.93      0.93        14\n",
            "    Classe 1       0.95      0.95      0.95        20\n",
            "\n",
            "    accuracy                           0.94        34\n",
            "   macro avg       0.94      0.94      0.94        34\n",
            "weighted avg       0.94      0.94      0.94        34\n",
            "\n"
          ]
        }
      ]
    },
    {
      "cell_type": "code",
      "metadata": {
        "id": "beKt0UDBrqZk",
        "colab": {
          "base_uri": "https://localhost:8080/"
        },
        "outputId": "50b76e86-2f95-4e78-fce6-12977aee8d8d"
      },
      "source": [
        "print(modelo.feature_importances_)"
      ],
      "execution_count": 18,
      "outputs": [
        {
          "output_type": "stream",
          "name": "stdout",
          "text": [
            "[0.         0.         0.         0.         0.         0.\n",
            " 0.         0.         0.         0.         0.         0.\n",
            " 0.         0.         0.         0.         0.         0.\n",
            " 0.94256757 0.         0.         0.         0.         0.\n",
            " 0.         0.02910959 0.         0.         0.         0.\n",
            " 0.         0.         0.         0.         0.         0.\n",
            " 0.         0.         0.         0.02832284 0.         0.\n",
            " 0.         0.         0.         0.         0.         0.\n",
            " 0.         0.         0.         0.         0.         0.        ]\n"
          ]
        }
      ]
    },
    {
      "cell_type": "markdown",
      "metadata": {
        "id": "N8QuljBhwFRp"
      },
      "source": [
        "Overfit na Árvore de Decisão"
      ]
    },
    {
      "cell_type": "code",
      "metadata": {
        "id": "XQ38soJzr1dH",
        "colab": {
          "base_uri": "https://localhost:8080/"
        },
        "outputId": "66e89b2e-cdaf-4717-e8d0-649afd96598b"
      },
      "source": [
        "modelo.score(X_train,y_train)"
      ],
      "execution_count": 19,
      "outputs": [
        {
          "output_type": "execute_result",
          "data": {
            "text/plain": [
              "1.0"
            ]
          },
          "metadata": {},
          "execution_count": 19
        }
      ]
    },
    {
      "cell_type": "code",
      "metadata": {
        "colab": {
          "base_uri": "https://localhost:8080/"
        },
        "id": "OsmJ-bbS2_9D",
        "outputId": "8cac92a6-43f2-4448-99a2-3144b13d1740"
      },
      "source": [
        "# Importando da biblioteca a validação cruzada\n",
        "from sklearn.model_selection import cross_val_score \n",
        "# Importando o k-Fold\n",
        "from sklearn.model_selection import KFold \n",
        "\n",
        "# Divisão das partes (folds)\n",
        "kfold  = KFold(n_splits=5, shuffle=True)\n",
        "# Definição do espaço de teste, conjunto, métrica e modelo\n",
        "scores = cross_val_score(modelo, X, y, cv=kfold, scoring='accuracy')\n",
        "\n",
        "# Resultados\n",
        "print('Resultados da validação cruzada: ', scores)\n",
        "print('Média de acuracias: ', scores.mean())"
      ],
      "execution_count": 55,
      "outputs": [
        {
          "output_type": "stream",
          "name": "stdout",
          "text": [
            "Resultados da validação cruzada:  [0.855 0.855 0.815 0.835 0.855]\n",
            "Média de acuracias:  0.843\n"
          ]
        }
      ]
    },
    {
      "cell_type": "code",
      "metadata": {
        "id": "JuK7ibc5s30V",
        "colab": {
          "base_uri": "https://localhost:8080/"
        },
        "outputId": "e0a839c7-6614-4675-ba66-603659790e71"
      },
      "source": [
        "pip install graphviz"
      ],
      "execution_count": 20,
      "outputs": [
        {
          "output_type": "stream",
          "name": "stdout",
          "text": [
            "Requirement already satisfied: graphviz in /usr/local/lib/python3.7/dist-packages (0.10.1)\n"
          ]
        }
      ]
    },
    {
      "cell_type": "code",
      "metadata": {
        "id": "OMQXH8IItHP1",
        "colab": {
          "base_uri": "https://localhost:8080/"
        },
        "outputId": "13ca4c7d-2168-4d8c-a01e-0fd6d0526d1e"
      },
      "source": [
        "pip install pydotplus"
      ],
      "execution_count": 21,
      "outputs": [
        {
          "output_type": "stream",
          "name": "stdout",
          "text": [
            "Requirement already satisfied: pydotplus in /usr/local/lib/python3.7/dist-packages (2.0.2)\n",
            "Requirement already satisfied: pyparsing>=2.0.1 in /usr/local/lib/python3.7/dist-packages (from pydotplus) (2.4.7)\n"
          ]
        }
      ]
    },
    {
      "cell_type": "code",
      "metadata": {
        "id": "37x1hZIZtPeZ",
        "colab": {
          "base_uri": "https://localhost:8080/",
          "height": 648
        },
        "outputId": "d86735d6-3b35-47ae-af82-a6081e624a3a"
      },
      "source": [
        "from sklearn.tree import export_graphviz\n",
        "from sklearn.externals.six import StringIO  \n",
        "from IPython.display import Image  \n",
        "import pydotplus\n",
        "\n",
        "dot_data = StringIO()\n",
        "export_graphviz(modelo, out_file=dot_data,  \n",
        "                filled=True, rounded=True,\n",
        "                special_characters=True,feature_names = df.columns[0:54],class_names=['0','1'])\n",
        "graph = pydotplus.graph_from_dot_data(dot_data.getvalue())  \n",
        "graph.write_png('divorce.png')\n",
        "Image(graph.create_png())\n"
      ],
      "execution_count": 22,
      "outputs": [
        {
          "output_type": "stream",
          "name": "stderr",
          "text": [
            "/usr/local/lib/python3.7/dist-packages/sklearn/externals/six.py:31: FutureWarning: The module is deprecated in version 0.21 and will be removed in version 0.23 since we've dropped support for Python 2.7. Please rely on the official version of six (https://pypi.org/project/six/).\n",
            "  \"(https://pypi.org/project/six/).\", FutureWarning)\n"
          ]
        },
        {
          "output_type": "execute_result",
          "data": {
            "image/png": "[encoded data removed]",
            "text/plain": [
              "<IPython.core.display.Image object>"
            ]
          },
          "metadata": {},
          "execution_count": 22
        }
      ]
    },
    {
      "cell_type": "markdown",
      "metadata": {
        "id": "1j1IJwytBNLa"
      },
      "source": [
        "#19. My spouse and I have similar ideas about how roles should be in marriage\n",
        "#40. We're just starting a discussion before I know what's going on.\n",
        "#26. I know my spouse's basic anxieties."
      ]
    },
    {
      "cell_type": "markdown",
      "metadata": {
        "id": "ZU3b-uo2sPGN"
      },
      "source": [
        "* Random Forest"
      ]
    },
    {
      "cell_type": "code",
      "metadata": {
        "id": "CufS83BwEU_f"
      },
      "source": [
        ""
      ],
      "execution_count": null,
      "outputs": []
    },
    {
      "cell_type": "code",
      "metadata": {
        "id": "u5JbcwPar92J",
        "colab": {
          "base_uri": "https://localhost:8080/"
        },
        "outputId": "2819591a-35d4-4a58-fb26-ee573d880d9b"
      },
      "source": [
        "# Função para criação de dados sintéricos \n",
        "from sklearn.datasets import make_classification\n",
        "# Criação do conjunto sintético\n",
        "X, y = make_classification(n_samples=1000, n_features=20, n_informative=15, n_redundant=5, random_state=3)\n",
        "# Resumo dos dados\n",
        "print(X.shape, y.shape)"
      ],
      "execution_count": 23,
      "outputs": [
        {
          "output_type": "stream",
          "name": "stdout",
          "text": [
            "(1000, 20) (1000,)\n"
          ]
        }
      ]
    },
    {
      "cell_type": "code",
      "metadata": {
        "id": "YmN3Lmipsatm",
        "colab": {
          "base_uri": "https://localhost:8080/"
        },
        "outputId": "efb40e44-e6e4-4d69-9fe5-df4bc0a7e0fd"
      },
      "source": [
        "X"
      ],
      "execution_count": 24,
      "outputs": [
        {
          "output_type": "execute_result",
          "data": {
            "text/plain": [
              "array([[ -8.52381793,   5.24451077, -12.14967704, ...,   1.05057966,\n",
              "          0.6975331 ,   0.26076035],\n",
              "       [ -0.05916285,  -3.54893654,   0.28450157, ...,   2.25695685,\n",
              "          1.22878976,  -2.35705572],\n",
              "       [  1.43722964,  -2.7930806 ,   3.06777424, ...,   7.17348666,\n",
              "          2.7348798 ,  -5.86519533],\n",
              "       ...,\n",
              "       [  3.16342902,  -9.33711497,   9.98425127, ...,  -2.10531942,\n",
              "         -0.81155073,  -1.87188942],\n",
              "       [ -9.02657972,   2.59981304,  -4.6665526 , ...,  -1.4839017 ,\n",
              "         -1.30836833,   0.22976655],\n",
              "       [ -2.91686079,   2.27957528,  -1.00615184, ...,  -0.67922735,\n",
              "         -2.84990903,  -2.06836683]])"
            ]
          },
          "metadata": {},
          "execution_count": 24
        }
      ]
    },
    {
      "cell_type": "code",
      "metadata": {
        "id": "fCNSQYo8sfSq",
        "colab": {
          "base_uri": "https://localhost:8080/"
        },
        "outputId": "20b2c323-f6d4-41cc-db95-2a57cd73ece0"
      },
      "source": [
        "y"
      ],
      "execution_count": 25,
      "outputs": [
        {
          "output_type": "execute_result",
          "data": {
            "text/plain": [
              "array([0, 1, 1, 1, 0, 1, 1, 0, 1, 0, 1, 1, 0, 0, 1, 0, 0, 1, 1, 0, 0, 1,\n",
              "       0, 0, 1, 1, 0, 0, 1, 0, 1, 1, 1, 0, 1, 1, 1, 1, 0, 0, 0, 1, 1, 0,\n",
              "       1, 0, 0, 1, 0, 1, 1, 1, 1, 0, 0, 0, 1, 0, 1, 0, 0, 0, 0, 1, 1, 1,\n",
              "       0, 0, 1, 1, 0, 1, 0, 1, 0, 0, 0, 0, 0, 0, 0, 1, 1, 1, 1, 1, 1, 0,\n",
              "       1, 1, 1, 1, 0, 1, 0, 1, 1, 0, 0, 0, 0, 1, 0, 1, 0, 1, 1, 0, 1, 1,\n",
              "       1, 0, 0, 1, 0, 1, 1, 1, 1, 0, 0, 1, 0, 1, 1, 1, 0, 1, 1, 1, 0, 0,\n",
              "       0, 1, 0, 1, 1, 1, 0, 1, 1, 0, 1, 1, 0, 1, 0, 0, 0, 1, 1, 1, 1, 1,\n",
              "       1, 1, 1, 0, 1, 1, 1, 0, 0, 0, 0, 1, 0, 1, 1, 0, 0, 0, 1, 0, 0, 0,\n",
              "       0, 1, 0, 1, 1, 1, 0, 1, 0, 1, 0, 1, 0, 1, 1, 0, 0, 0, 0, 1, 0, 1,\n",
              "       1, 0, 0, 1, 1, 0, 0, 1, 0, 1, 0, 1, 0, 1, 0, 0, 0, 1, 0, 1, 0, 1,\n",
              "       0, 0, 1, 0, 0, 1, 1, 0, 1, 0, 0, 0, 0, 1, 0, 0, 1, 0, 0, 0, 0, 0,\n",
              "       1, 1, 0, 1, 1, 1, 1, 1, 1, 1, 0, 1, 0, 1, 1, 1, 0, 0, 0, 0, 1, 1,\n",
              "       0, 0, 0, 1, 1, 0, 1, 1, 1, 1, 1, 0, 1, 1, 0, 1, 0, 0, 1, 0, 0, 1,\n",
              "       1, 1, 1, 1, 1, 0, 1, 0, 1, 1, 1, 1, 0, 1, 0, 1, 1, 0, 0, 1, 0, 0,\n",
              "       0, 0, 0, 1, 0, 0, 1, 1, 0, 1, 0, 0, 1, 1, 0, 1, 1, 1, 0, 0, 0, 0,\n",
              "       1, 0, 1, 0, 1, 0, 0, 0, 1, 1, 0, 0, 1, 0, 0, 0, 1, 1, 0, 1, 0, 0,\n",
              "       0, 0, 0, 0, 0, 1, 1, 0, 1, 0, 1, 0, 0, 1, 0, 1, 1, 1, 0, 0, 1, 0,\n",
              "       1, 0, 1, 0, 1, 1, 1, 1, 1, 1, 1, 1, 0, 0, 0, 0, 1, 1, 0, 0, 1, 0,\n",
              "       1, 1, 0, 0, 0, 1, 0, 0, 1, 1, 0, 1, 0, 0, 1, 1, 1, 1, 0, 1, 0, 1,\n",
              "       0, 0, 1, 1, 0, 0, 1, 1, 1, 0, 1, 1, 1, 0, 0, 0, 0, 0, 1, 1, 0, 0,\n",
              "       0, 0, 0, 0, 0, 1, 0, 1, 0, 0, 0, 1, 1, 1, 1, 1, 1, 1, 1, 0, 0, 1,\n",
              "       1, 0, 0, 0, 0, 0, 0, 0, 0, 1, 1, 1, 1, 0, 1, 0, 1, 0, 1, 0, 0, 0,\n",
              "       0, 1, 1, 0, 0, 0, 1, 1, 0, 1, 0, 0, 1, 0, 1, 0, 1, 0, 0, 1, 0, 1,\n",
              "       0, 1, 1, 1, 0, 0, 1, 1, 0, 0, 0, 1, 0, 1, 0, 0, 1, 1, 1, 1, 0, 1,\n",
              "       1, 0, 1, 1, 1, 0, 1, 1, 0, 1, 1, 0, 1, 0, 1, 0, 1, 1, 1, 1, 1, 0,\n",
              "       0, 1, 0, 0, 1, 0, 0, 0, 0, 1, 0, 0, 0, 0, 1, 1, 1, 1, 1, 0, 0, 0,\n",
              "       0, 1, 1, 1, 0, 1, 1, 0, 0, 0, 1, 0, 1, 1, 0, 0, 0, 1, 1, 1, 1, 0,\n",
              "       1, 1, 0, 1, 1, 0, 1, 0, 1, 0, 1, 0, 1, 0, 1, 1, 1, 0, 1, 0, 1, 1,\n",
              "       1, 0, 1, 1, 1, 0, 0, 1, 0, 0, 0, 1, 0, 1, 1, 1, 1, 0, 0, 0, 0, 0,\n",
              "       1, 0, 1, 0, 0, 0, 1, 0, 1, 1, 0, 1, 0, 1, 0, 1, 0, 0, 0, 0, 0, 1,\n",
              "       1, 1, 0, 1, 1, 0, 1, 1, 1, 1, 0, 0, 0, 0, 0, 1, 0, 1, 1, 0, 0, 1,\n",
              "       1, 1, 0, 0, 1, 0, 0, 0, 0, 0, 0, 1, 0, 0, 1, 1, 1, 0, 1, 0, 1, 1,\n",
              "       1, 1, 0, 0, 1, 0, 0, 1, 1, 1, 1, 1, 1, 0, 0, 0, 0, 1, 1, 0, 1, 0,\n",
              "       0, 1, 0, 0, 0, 1, 1, 1, 1, 1, 1, 1, 1, 0, 1, 1, 1, 0, 0, 0, 0, 0,\n",
              "       1, 1, 1, 1, 1, 0, 1, 0, 1, 1, 0, 1, 0, 1, 1, 1, 0, 1, 0, 0, 1, 0,\n",
              "       0, 0, 1, 1, 1, 0, 0, 0, 1, 1, 0, 1, 1, 0, 1, 0, 0, 1, 0, 1, 0, 1,\n",
              "       0, 0, 1, 0, 0, 1, 1, 1, 0, 1, 1, 1, 0, 1, 0, 0, 1, 0, 0, 0, 1, 1,\n",
              "       1, 1, 0, 1, 0, 0, 1, 0, 0, 1, 1, 1, 0, 0, 1, 0, 0, 1, 0, 0, 1, 1,\n",
              "       1, 1, 1, 1, 0, 1, 1, 0, 0, 0, 0, 1, 1, 0, 1, 0, 1, 1, 0, 1, 1, 1,\n",
              "       1, 0, 0, 0, 0, 1, 1, 1, 0, 0, 1, 0, 1, 0, 0, 0, 1, 1, 1, 0, 0, 0,\n",
              "       1, 0, 1, 0, 0, 1, 1, 0, 1, 1, 1, 0, 0, 0, 0, 1, 0, 0, 1, 0, 0, 0,\n",
              "       1, 0, 1, 1, 0, 1, 1, 1, 0, 0, 0, 1, 0, 0, 0, 1, 1, 1, 0, 0, 0, 0,\n",
              "       1, 0, 0, 0, 1, 0, 0, 0, 0, 1, 1, 0, 0, 0, 1, 1, 1, 0, 1, 0, 1, 0,\n",
              "       0, 0, 0, 1, 0, 1, 1, 0, 1, 0, 1, 0, 1, 0, 1, 0, 0, 0, 0, 0, 0, 0,\n",
              "       0, 1, 1, 0, 0, 0, 0, 0, 1, 1, 0, 0, 0, 1, 0, 1, 1, 0, 1, 0, 1, 0,\n",
              "       1, 1, 0, 0, 1, 0, 1, 0, 1, 1])"
            ]
          },
          "metadata": {},
          "execution_count": 25
        }
      ]
    },
    {
      "cell_type": "code",
      "metadata": {
        "id": "NgM08G75udFv"
      },
      "source": [
        "# Importação de uma ferramenta que divide os conjuntos (Treino e Teste)\n",
        "from sklearn.model_selection import train_test_split\n",
        "\n",
        "# Vamos utilizar 80% dos nossos dados para treinar o modelo e 20% para testar\n",
        "X_train, X_test, y_train, y_test = train_test_split(X, y, test_size=0.2, random_state=42)"
      ],
      "execution_count": 26,
      "outputs": []
    },
    {
      "cell_type": "code",
      "metadata": {
        "id": "ZkNeTbUpufD7"
      },
      "source": [
        "# Importando o pacote com o modelo \n",
        "from sklearn.ensemble import RandomForestClassifier\n",
        "\n",
        "# Definindo o modelo escolhido\n",
        "modelo = RandomForestClassifier(n_estimators=10)"
      ],
      "execution_count": 27,
      "outputs": []
    },
    {
      "cell_type": "code",
      "metadata": {
        "id": "TJrm2K15ujWe",
        "colab": {
          "base_uri": "https://localhost:8080/"
        },
        "outputId": "131efdc6-dd3a-4f73-9940-ce9063a96bc2"
      },
      "source": [
        "modelo.fit(X_train,y_train)"
      ],
      "execution_count": 28,
      "outputs": [
        {
          "output_type": "execute_result",
          "data": {
            "text/plain": [
              "RandomForestClassifier(bootstrap=True, ccp_alpha=0.0, class_weight=None,\n",
              "                       criterion='gini', max_depth=None, max_features='auto',\n",
              "                       max_leaf_nodes=None, max_samples=None,\n",
              "                       min_impurity_decrease=0.0, min_impurity_split=None,\n",
              "                       min_samples_leaf=1, min_samples_split=2,\n",
              "                       min_weight_fraction_leaf=0.0, n_estimators=10,\n",
              "                       n_jobs=None, oob_score=False, random_state=None,\n",
              "                       verbose=0, warm_start=False)"
            ]
          },
          "metadata": {},
          "execution_count": 28
        }
      ]
    },
    {
      "cell_type": "code",
      "metadata": {
        "id": "Unwf50TXumuL"
      },
      "source": [
        "y_pred = modelo.predict(X_test)"
      ],
      "execution_count": 29,
      "outputs": []
    },
    {
      "cell_type": "code",
      "metadata": {
        "id": "wYE70GdTuqP0",
        "colab": {
          "base_uri": "https://localhost:8080/"
        },
        "outputId": "526036ee-6e9c-41f4-98be-ab09e1012ee1"
      },
      "source": [
        "import pandas as pd\n",
        "\n",
        "print(pd.crosstab(y_test, y_pred, rownames=['Real'], colnames=['Previsto'], margins=True))"
      ],
      "execution_count": 30,
      "outputs": [
        {
          "output_type": "stream",
          "name": "stdout",
          "text": [
            "Previsto    0   1  All\n",
            "Real                  \n",
            "0         107   7  114\n",
            "1          15  71   86\n",
            "All       122  78  200\n"
          ]
        }
      ]
    },
    {
      "cell_type": "code",
      "metadata": {
        "id": "ENfSTDBJux0s",
        "colab": {
          "base_uri": "https://localhost:8080/"
        },
        "outputId": "bd74254d-2fcc-4e6c-8375-83884578964d"
      },
      "source": [
        "# Outra forma de exibir as medidas de desempenho de classificação\n",
        "from sklearn.metrics import classification_report\n",
        "\n",
        "class_names = ['Classe 1', 'Classe 2']\n",
        "\n",
        "print(classification_report(y_test, y_pred, target_names=class_names))"
      ],
      "execution_count": 31,
      "outputs": [
        {
          "output_type": "stream",
          "name": "stdout",
          "text": [
            "              precision    recall  f1-score   support\n",
            "\n",
            "    Classe 1       0.88      0.94      0.91       114\n",
            "    Classe 2       0.91      0.83      0.87        86\n",
            "\n",
            "    accuracy                           0.89       200\n",
            "   macro avg       0.89      0.88      0.89       200\n",
            "weighted avg       0.89      0.89      0.89       200\n",
            "\n"
          ]
        }
      ]
    },
    {
      "cell_type": "markdown",
      "metadata": {
        "id": "xued48ZgWI9I"
      },
      "source": [
        "* Aqui fica claro que o modelo random forest tb teve um Overfit, já que a diferença entre o treino com 88% de acurácia e o teste em praticamente 100% mostra isso."
      ]
    },
    {
      "cell_type": "code",
      "metadata": {
        "id": "dZNK4HsJu3LJ",
        "colab": {
          "base_uri": "https://localhost:8080/"
        },
        "outputId": "ece3ce35-2f82-4ec1-a2d0-d0bd528f5bef"
      },
      "source": [
        "modelo.score(X_train,y_train)"
      ],
      "execution_count": 32,
      "outputs": [
        {
          "output_type": "execute_result",
          "data": {
            "text/plain": [
              "0.995"
            ]
          },
          "metadata": {},
          "execution_count": 32
        }
      ]
    },
    {
      "cell_type": "code",
      "metadata": {
        "colab": {
          "base_uri": "https://localhost:8080/"
        },
        "id": "EQjgYsoh4b48",
        "outputId": "92b25951-971b-4a14-e607-fbf0770f9ec4"
      },
      "source": [
        "# Importando da biblioteca a validação cruzada\n",
        "from sklearn.model_selection import cross_val_score \n",
        "# Importando o k-Fold\n",
        "from sklearn.model_selection import KFold \n",
        "\n",
        "# Divisão das partes (folds)\n",
        "kfold  = KFold(n_splits=5, shuffle=True)\n",
        "# Definição do espaço de teste, conjunto, métrica e modelo\n",
        "scores = cross_val_score(modelo, X, y, cv=kfold, scoring='accuracy')\n",
        "\n",
        "# Resultados\n",
        "print('Resultados da validação cruzada: ', scores)\n",
        "print('Média de acuracias: ', scores.mean())"
      ],
      "execution_count": 56,
      "outputs": [
        {
          "output_type": "stream",
          "name": "stdout",
          "text": [
            "Resultados da validação cruzada:  [0.835 0.8   0.865 0.85  0.845]\n",
            "Média de acuracias:  0.8390000000000001\n"
          ]
        }
      ]
    },
    {
      "cell_type": "code",
      "metadata": {
        "id": "PlcELm7Nu8fP",
        "colab": {
          "base_uri": "https://localhost:8080/"
        },
        "outputId": "3e1934ff-497b-4e3f-ebaf-dfea1a3b7a16"
      },
      "source": [
        "import pandas as pd\n",
        "\n",
        "importancia_caract = pd.Series(modelo.feature_importances_,index=range(0,20)).sort_values(ascending=False)\n",
        "importancia_caract"
      ],
      "execution_count": 33,
      "outputs": [
        {
          "output_type": "execute_result",
          "data": {
            "text/plain": [
              "5     0.169498\n",
              "6     0.108874\n",
              "10    0.100341\n",
              "8     0.049804\n",
              "0     0.049293\n",
              "19    0.046777\n",
              "7     0.045483\n",
              "9     0.045080\n",
              "11    0.042141\n",
              "1     0.041877\n",
              "4     0.039283\n",
              "16    0.036823\n",
              "14    0.033081\n",
              "12    0.032801\n",
              "18    0.032437\n",
              "17    0.030230\n",
              "13    0.029772\n",
              "3     0.028564\n",
              "2     0.021523\n",
              "15    0.016321\n",
              "dtype: float64"
            ]
          },
          "metadata": {},
          "execution_count": 33
        }
      ]
    },
    {
      "cell_type": "markdown",
      "metadata": {
        "id": "afSG3O52CBB1"
      },
      "source": [
        "#5. The time I spent with my wife is special for us.\n",
        "#6. We don't have time at home as partners.\n",
        "#10. Most of our goals are common to my spouse."
      ]
    },
    {
      "cell_type": "markdown",
      "metadata": {
        "id": "EAakcPrW0pqV"
      },
      "source": [
        "* Classificador K-NN"
      ]
    },
    {
      "cell_type": "code",
      "metadata": {
        "id": "BstTsr7i0t9A"
      },
      "source": [
        "# Importando o pacote com o modelo \n",
        "from sklearn.neighbors import KNeighborsClassifier\n",
        "\n",
        "# Definindo o modelo escolhido\n",
        "modelo = KNeighborsClassifier(n_neighbors=50) "
      ],
      "execution_count": 34,
      "outputs": []
    },
    {
      "cell_type": "code",
      "metadata": {
        "colab": {
          "base_uri": "https://localhost:8080/"
        },
        "id": "oC0CZjrt0y25",
        "outputId": "d2b5dbd1-63f7-4fc0-864f-9e7c3bea5730"
      },
      "source": [
        "modelo.fit(X_train,y_train)"
      ],
      "execution_count": 35,
      "outputs": [
        {
          "output_type": "execute_result",
          "data": {
            "text/plain": [
              "KNeighborsClassifier(algorithm='auto', leaf_size=30, metric='minkowski',\n",
              "                     metric_params=None, n_jobs=None, n_neighbors=50, p=2,\n",
              "                     weights='uniform')"
            ]
          },
          "metadata": {},
          "execution_count": 35
        }
      ]
    },
    {
      "cell_type": "code",
      "metadata": {
        "id": "d_jhoYts027d"
      },
      "source": [
        "y_pred = modelo.predict(X_test)"
      ],
      "execution_count": 36,
      "outputs": []
    },
    {
      "cell_type": "code",
      "metadata": {
        "colab": {
          "base_uri": "https://localhost:8080/"
        },
        "id": "c8pVj8Sp06y1",
        "outputId": "ce081280-ec7a-4c0b-86db-baa9ee0934f3"
      },
      "source": [
        "import pandas as pd\n",
        "\n",
        "print(pd.crosstab(y_test, y_pred, rownames=['Real'], colnames=['Previsto'], margins=True))"
      ],
      "execution_count": 37,
      "outputs": [
        {
          "output_type": "stream",
          "name": "stdout",
          "text": [
            "Previsto    0   1  All\n",
            "Real                  \n",
            "0         101  13  114\n",
            "1          15  71   86\n",
            "All       116  84  200\n"
          ]
        }
      ]
    },
    {
      "cell_type": "code",
      "metadata": {
        "colab": {
          "base_uri": "https://localhost:8080/"
        },
        "id": "WhYN33Cw0_nr",
        "outputId": "a23c3eab-b0a0-4731-c470-6b541d07ff4c"
      },
      "source": [
        "# Outra forma de exibir as medidas de desempenho de classificação\n",
        "from sklearn.metrics import classification_report\n",
        "\n",
        "class_names = ['Classe 1', 'Classe 2']\n",
        "\n",
        "print(classification_report(y_test, y_pred, target_names=class_names))"
      ],
      "execution_count": 38,
      "outputs": [
        {
          "output_type": "stream",
          "name": "stdout",
          "text": [
            "              precision    recall  f1-score   support\n",
            "\n",
            "    Classe 1       0.87      0.89      0.88       114\n",
            "    Classe 2       0.85      0.83      0.84        86\n",
            "\n",
            "    accuracy                           0.86       200\n",
            "   macro avg       0.86      0.86      0.86       200\n",
            "weighted avg       0.86      0.86      0.86       200\n",
            "\n"
          ]
        }
      ]
    },
    {
      "cell_type": "code",
      "metadata": {
        "colab": {
          "base_uri": "https://localhost:8080/"
        },
        "id": "zHHejvxeWRds",
        "outputId": "a326c6bf-323b-4a6c-d0e9-21c6286a8d63"
      },
      "source": [
        "acc_treino = modelo.score(X_train,y_train) \n",
        "print(acc_treino)"
      ],
      "execution_count": 39,
      "outputs": [
        {
          "output_type": "stream",
          "name": "stdout",
          "text": [
            "0.8675\n"
          ]
        }
      ]
    },
    {
      "cell_type": "markdown",
      "metadata": {
        "id": "bkz97wWWWgm5"
      },
      "source": [
        "* Aqui o modelo mostra que não houve overfit e o resultado muito próximo entre treino e teste mostra que o modelo é confiável nesses termos em 86% de acurácia"
      ]
    },
    {
      "cell_type": "code",
      "metadata": {
        "colab": {
          "base_uri": "https://localhost:8080/"
        },
        "id": "sOR6piY359Ia",
        "outputId": "f4b2bfc2-a8a5-486c-f64d-1d907aa8c149"
      },
      "source": [
        "# Importando da biblioteca a validação cruzada\n",
        "from sklearn.model_selection import cross_val_score \n",
        "# Importando o k-Fold\n",
        "from sklearn.model_selection import KFold \n",
        "\n",
        "# Divisão das partes (folds)\n",
        "kfold  = KFold(n_splits=5, shuffle=True)\n",
        "# Definição do espaço de teste, conjunto, métrica e modelo\n",
        "scores = cross_val_score(modelo, X, y, cv=kfold, scoring='accuracy')\n",
        "\n",
        "# Resultados\n",
        "print('Resultados da validação cruzada: ', scores)\n",
        "print('Média de acuracias: ', scores.mean())"
      ],
      "execution_count": 31,
      "outputs": [
        {
          "output_type": "stream",
          "name": "stdout",
          "text": [
            "Resultados da validação cruzada:  [0.9   0.845 0.865 0.865 0.88 ]\n",
            "Média de acuracias:  0.8710000000000001\n"
          ]
        }
      ]
    },
    {
      "cell_type": "markdown",
      "metadata": {
        "id": "RwijLrHkXAHb"
      },
      "source": [
        "* A média de acurácias também confirma a confiabilidade do modelo em 87%"
      ]
    },
    {
      "cell_type": "markdown",
      "metadata": {
        "id": "3ugZXsp0C24t"
      },
      "source": [
        "* SVM mostra abaixo que não há distinção clara de grupos por resposta, então tentei usar o hiperparametro make_circle."
      ]
    },
    {
      "cell_type": "code",
      "metadata": {
        "colab": {
          "base_uri": "https://localhost:8080/",
          "height": 265
        },
        "id": "HC---R58-YDY",
        "outputId": "7bbc174a-14de-4b34-9cf4-fbaf82279769"
      },
      "source": [
        "# Visualizando os dados\n",
        "import matplotlib.pyplot as plt\n",
        "\n",
        "plt.scatter(X[:, 0], X[:, 1], c=y, marker='.')\n",
        "plt.show()"
      ],
      "execution_count": 32,
      "outputs": [
        {
          "output_type": "display_data",
          "data": {
            "image/png": "[encoded data removed]",
            "text/plain": [
              "<Figure size 432x288 with 1 Axes>"
            ]
          },
          "metadata": {
            "needs_background": "light"
          }
        }
      ]
    },
    {
      "cell_type": "code",
      "metadata": {
        "id": "80TlWLHd_z9k"
      },
      "source": [
        "# Importação do banco de dados\n",
        "from sklearn import datasets\n",
        "\n",
        "# Conjunto de dados não-linear\n",
        "X, y = datasets.make_circles(n_samples=300, noise=0.05)"
      ],
      "execution_count": 1,
      "outputs": []
    },
    {
      "cell_type": "markdown",
      "metadata": {
        "id": "Xms4xUn0X_Bz"
      },
      "source": [
        "* Aqui tentei diminuir as amostras para ver se havia clusters\n"
      ]
    },
    {
      "cell_type": "code",
      "metadata": {
        "colab": {
          "base_uri": "https://localhost:8080/",
          "height": 265
        },
        "id": "U_GTPlglCYZU",
        "outputId": "c96c1944-2382-447c-9a30-b7edde641b88"
      },
      "source": [
        "# Visualizando os dados\n",
        "import matplotlib.pyplot as plt\n",
        "\n",
        "plt.scatter(X[:, 0], X[:, 1], c=y, marker='.')\n",
        "plt.show()"
      ],
      "execution_count": 2,
      "outputs": [
        {
          "output_type": "display_data",
          "data": {
            "image/png": "[encoded data removed]",
            "text/plain": [
              "<Figure size 432x288 with 1 Axes>"
            ]
          },
          "metadata": {
            "needs_background": "light"
          }
        }
      ]
    },
    {
      "cell_type": "code",
      "metadata": {
        "id": "8y9hlhVyrM7t"
      },
      "source": [
        "# Importação de uma ferramenta que divide os conjuntos (Treino e Teste)\n",
        "from sklearn.model_selection import train_test_split\n",
        "\n",
        "# Vamos utilizar 80% dos nossos dados para treinar o modelo e 20% para testar\n",
        "X_train, X_test, y_train, y_test = train_test_split(X, y, test_size=0.2, random_state=42)"
      ],
      "execution_count": 3,
      "outputs": []
    },
    {
      "cell_type": "code",
      "metadata": {
        "id": "IjQ7u-4jrREt"
      },
      "source": [
        "# Importando o pacote com o modelo \n",
        "from sklearn.svm import SVC\n",
        "\n",
        "# Definindo o modelo escolhido\n",
        "modelo = SVC(kernel='rbf')"
      ],
      "execution_count": 4,
      "outputs": []
    },
    {
      "cell_type": "code",
      "metadata": {
        "colab": {
          "base_uri": "https://localhost:8080/"
        },
        "id": "B8FlhmrHrUKn",
        "outputId": "04addeb7-1565-45cf-d9a9-c97e1a2beef9"
      },
      "source": [
        "modelo.fit(X_train,y_train)"
      ],
      "execution_count": 5,
      "outputs": [
        {
          "output_type": "execute_result",
          "data": {
            "text/plain": [
              "SVC(C=1.0, break_ties=False, cache_size=200, class_weight=None, coef0=0.0,\n",
              "    decision_function_shape='ovr', degree=3, gamma='scale', kernel='rbf',\n",
              "    max_iter=-1, probability=False, random_state=None, shrinking=True,\n",
              "    tol=0.001, verbose=False)"
            ]
          },
          "metadata": {},
          "execution_count": 5
        }
      ]
    },
    {
      "cell_type": "code",
      "metadata": {
        "id": "uXGnOCyDrXwh"
      },
      "source": [
        "y_pred = modelo.predict(X_test)"
      ],
      "execution_count": 6,
      "outputs": []
    },
    {
      "cell_type": "code",
      "metadata": {
        "colab": {
          "base_uri": "https://localhost:8080/"
        },
        "id": "g6ETh9Qurb3O",
        "outputId": "c092f4f7-b912-45fc-8075-6214b9c98a9c"
      },
      "source": [
        "import pandas as pd\n",
        "\n",
        "print(pd.crosstab(y_test, y_pred, rownames=['Real'], colnames=['Previsto'], margins=True))"
      ],
      "execution_count": 7,
      "outputs": [
        {
          "output_type": "stream",
          "name": "stdout",
          "text": [
            "Previsto   0   1  All\n",
            "Real                 \n",
            "0         35   0   35\n",
            "1          1  24   25\n",
            "All       36  24   60\n"
          ]
        }
      ]
    },
    {
      "cell_type": "code",
      "metadata": {
        "colab": {
          "base_uri": "https://localhost:8080/"
        },
        "id": "f5CvdsCvre1j",
        "outputId": "7eab7356-24c2-44a0-9b71-d2b8d461f5f1"
      },
      "source": [
        "# Outra forma de exibir as medidas de desempenho de classificação\n",
        "from sklearn.metrics import classification_report\n",
        "\n",
        "class_names = ['Classe 1', 'Classe 2']\n",
        "\n",
        "print(classification_report(y_test, y_pred, target_names=class_names))"
      ],
      "execution_count": 8,
      "outputs": [
        {
          "output_type": "stream",
          "name": "stdout",
          "text": [
            "              precision    recall  f1-score   support\n",
            "\n",
            "    Classe 1       0.97      1.00      0.99        35\n",
            "    Classe 2       1.00      0.96      0.98        25\n",
            "\n",
            "    accuracy                           0.98        60\n",
            "   macro avg       0.99      0.98      0.98        60\n",
            "weighted avg       0.98      0.98      0.98        60\n",
            "\n"
          ]
        }
      ]
    },
    {
      "cell_type": "code",
      "metadata": {
        "colab": {
          "base_uri": "https://localhost:8080/"
        },
        "id": "xdDWY5h4rwkd",
        "outputId": "1de2aefc-5022-4a0d-efc4-7f6723f81d2a"
      },
      "source": [
        "acc_treino = modelo.score(X_train,y_train) \n",
        "print(acc_treino)"
      ],
      "execution_count": 9,
      "outputs": [
        {
          "output_type": "stream",
          "name": "stdout",
          "text": [
            "0.9875\n"
          ]
        }
      ]
    },
    {
      "cell_type": "code",
      "metadata": {
        "colab": {
          "base_uri": "https://localhost:8080/"
        },
        "id": "EXxYfs9p2x3b",
        "outputId": "5b8f6a7a-3da6-4117-bcb1-07a6aebdc491"
      },
      "source": [
        "# Importando da biblioteca a validação cruzada\n",
        "from sklearn.model_selection import cross_val_score \n",
        "# Importando o k-Fold\n",
        "from sklearn.model_selection import KFold \n",
        "\n",
        "# Divisão das partes (folds)\n",
        "kfold  = KFold(n_splits=5, shuffle=True)\n",
        "# Definição do espaço de teste, conjunto, métrica e modelo\n",
        "scores = cross_val_score(modelo, X, y, cv=kfold, scoring='accuracy')\n",
        "\n",
        "# Resultados\n",
        "print('Resultados da validação cruzada: ', scores)\n",
        "print('Média de acuracias: ', scores.mean())"
      ],
      "execution_count": 54,
      "outputs": [
        {
          "output_type": "stream",
          "name": "stdout",
          "text": [
            "Resultados da validação cruzada:  [0.825 0.86  0.84  0.815 0.89 ]\n",
            "Média de acuracias:  0.8459999999999999\n"
          ]
        }
      ]
    },
    {
      "cell_type": "markdown",
      "metadata": {
        "id": "eZiNCNo5FSC5"
      },
      "source": [
        "Naive Bayes"
      ]
    },
    {
      "cell_type": "code",
      "metadata": {
        "colab": {
          "base_uri": "https://localhost:8080/",
          "height": 279
        },
        "id": "EkwPp7zbFVyu",
        "outputId": "ac67fca8-62c0-41ba-d3ba-b1917593a75f"
      },
      "source": [
        "df.Class.value_counts().plot(kind='bar')"
      ],
      "execution_count": 40,
      "outputs": [
        {
          "output_type": "execute_result",
          "data": {
            "text/plain": [
              "<matplotlib.axes._subplots.AxesSubplot at 0x7f27236efa90>"
            ]
          },
          "metadata": {},
          "execution_count": 40
        },
        {
          "output_type": "display_data",
          "data": {
            "image/png": "[encoded data removed]",
            "text/plain": [
              "<Figure size 432x288 with 1 Axes>"
            ]
          },
          "metadata": {
            "needs_background": "light"
          }
        }
      ]
    },
    {
      "cell_type": "code",
      "metadata": {
        "id": "_5QJW4imHkla"
      },
      "source": [
        "# Importando o pacote com o modelo \n",
        "from sklearn.naive_bayes import GaussianNB\n",
        "\n",
        "# Definindo o modelo escolhido\n",
        "modelo = GaussianNB()"
      ],
      "execution_count": 41,
      "outputs": []
    },
    {
      "cell_type": "code",
      "metadata": {
        "id": "AriBiiX3K9wS"
      },
      "source": [
        "# Importação de uma ferramenta que divide os conjuntos (Treino e Teste)\n",
        "from sklearn.model_selection import train_test_split\n",
        "\n",
        "# Vamos utilizar 80% dos nossos dados para treinar o modelo e 20% para testar\n",
        "X_train, X_test, y_train, y_test = train_test_split(X, y, test_size=0.2, random_state=42)"
      ],
      "execution_count": 42,
      "outputs": []
    },
    {
      "cell_type": "code",
      "metadata": {
        "colab": {
          "base_uri": "https://localhost:8080/"
        },
        "id": "jJuAnTMJJpDf",
        "outputId": "eaa7c728-c3d6-4668-b5f2-e38365196bbc"
      },
      "source": [
        "modelo.fit(X_train,y_train)"
      ],
      "execution_count": 43,
      "outputs": [
        {
          "output_type": "execute_result",
          "data": {
            "text/plain": [
              "GaussianNB(priors=None, var_smoothing=1e-09)"
            ]
          },
          "metadata": {},
          "execution_count": 43
        }
      ]
    },
    {
      "cell_type": "code",
      "metadata": {
        "colab": {
          "base_uri": "https://localhost:8080/"
        },
        "id": "v4dq4HP-LeMa",
        "outputId": "96392dbc-eb81-4e50-f6be-c45cc2cb4f0e"
      },
      "source": [
        "X_test"
      ],
      "execution_count": 44,
      "outputs": [
        {
          "output_type": "execute_result",
          "data": {
            "text/plain": [
              "array([[-12.8913173 ,   0.85472586,  -9.56090899, ...,   7.51274235,\n",
              "          1.48673144,  -0.26450763],\n",
              "       [ -1.73490074,   1.79622736,  -9.15808811, ...,   1.73358804,\n",
              "         -1.13558805,  -2.11677793],\n",
              "       [-18.73078222,   0.17883422,   0.59046427, ..., -10.09890675,\n",
              "         -4.13768895,   1.52493977],\n",
              "       ...,\n",
              "       [ -1.55013678,  -2.7373426 ,   3.25449408, ...,   0.52785504,\n",
              "         -1.12124111,   1.41665341],\n",
              "       [  4.9761277 ,  -4.10094612,  -2.06680645, ...,   6.817864  ,\n",
              "          2.51370416,  -0.0851799 ],\n",
              "       [ -4.75164336,  -2.77930348,   3.46631973, ...,   0.15559877,\n",
              "         -1.27151231,  -1.84164903]])"
            ]
          },
          "metadata": {},
          "execution_count": 44
        }
      ]
    },
    {
      "cell_type": "code",
      "metadata": {
        "id": "B7asXzEEJuoi"
      },
      "source": [
        "y_pred = modelo.predict(X_test)"
      ],
      "execution_count": 45,
      "outputs": []
    },
    {
      "cell_type": "code",
      "metadata": {
        "colab": {
          "base_uri": "https://localhost:8080/"
        },
        "id": "ctAGn8kSJxZn",
        "outputId": "3dea906b-acd2-4982-d0ff-263dc2995605"
      },
      "source": [
        "len(X_test)"
      ],
      "execution_count": 46,
      "outputs": [
        {
          "output_type": "execute_result",
          "data": {
            "text/plain": [
              "200"
            ]
          },
          "metadata": {},
          "execution_count": 46
        }
      ]
    },
    {
      "cell_type": "code",
      "metadata": {
        "colab": {
          "base_uri": "https://localhost:8080/"
        },
        "id": "z_O6gkZBJ0w_",
        "outputId": "0fa1513d-12f0-4155-b1de-f7d426c957c8"
      },
      "source": [
        "print(y_test[:10])"
      ],
      "execution_count": 47,
      "outputs": [
        {
          "output_type": "stream",
          "name": "stdout",
          "text": [
            "[0 1 1 1 1 1 0 1 0 1]\n"
          ]
        }
      ]
    },
    {
      "cell_type": "code",
      "metadata": {
        "colab": {
          "base_uri": "https://localhost:8080/"
        },
        "id": "Gn5E-GVEJ4x2",
        "outputId": "43878459-8480-414a-9ead-0df3ccdbfd0c"
      },
      "source": [
        "y_pred[:10]"
      ],
      "execution_count": 48,
      "outputs": [
        {
          "output_type": "execute_result",
          "data": {
            "text/plain": [
              "array([1, 1, 1, 1, 0, 0, 0, 1, 0, 1])"
            ]
          },
          "metadata": {},
          "execution_count": 48
        }
      ]
    },
    {
      "cell_type": "code",
      "metadata": {
        "colab": {
          "base_uri": "https://localhost:8080/"
        },
        "id": "qYWbcy_eKCvQ",
        "outputId": "42b1b32f-8b0b-4972-e4f2-461da250c0a9"
      },
      "source": [
        "modelo.predict_proba(X_test)[:10]"
      ],
      "execution_count": 49,
      "outputs": [
        {
          "output_type": "execute_result",
          "data": {
            "text/plain": [
              "array([[1.91277941e-01, 8.08722059e-01],\n",
              "       [2.63752027e-01, 7.36247973e-01],\n",
              "       [7.32935625e-04, 9.99267064e-01],\n",
              "       [4.09188890e-01, 5.90811110e-01],\n",
              "       [5.51180209e-01, 4.48819791e-01],\n",
              "       [9.97888043e-01, 2.11195695e-03],\n",
              "       [9.74783074e-01, 2.52169260e-02],\n",
              "       [1.34978549e-01, 8.65021451e-01],\n",
              "       [9.67529421e-01, 3.24705791e-02],\n",
              "       [5.97191332e-03, 9.94028087e-01]])"
            ]
          },
          "metadata": {},
          "execution_count": 49
        }
      ]
    },
    {
      "cell_type": "code",
      "metadata": {
        "colab": {
          "base_uri": "https://localhost:8080/"
        },
        "id": "RsLBsub2KOfz",
        "outputId": "7b553d8d-5077-4987-d6e6-53f8d091eb12"
      },
      "source": [
        "import pandas as pd\n",
        "\n",
        "print(pd.crosstab(y_test, y_pred, rownames=['Real'], colnames=['Previsto'], margins=True))"
      ],
      "execution_count": 50,
      "outputs": [
        {
          "output_type": "stream",
          "name": "stdout",
          "text": [
            "Previsto    0   1  All\n",
            "Real                  \n",
            "0         100  14  114\n",
            "1          19  67   86\n",
            "All       119  81  200\n"
          ]
        }
      ]
    },
    {
      "cell_type": "markdown",
      "metadata": {
        "id": "VovI3_LzYpZZ"
      },
      "source": [
        "* Assim como o modelo KNN o Naive Bayes conseguiu uma acurácia alta de 96% no teste e alta no treino 92% indicando ser o melhor modelo para prever o divórcio.\n"
      ]
    },
    {
      "cell_type": "code",
      "metadata": {
        "colab": {
          "base_uri": "https://localhost:8080/"
        },
        "id": "omtZyGeFKdQQ",
        "outputId": "69748c3a-f116-4a1c-c90c-4bd21b32a188"
      },
      "source": [
        "# Outra forma de exibir as medidas de desempenho de classificação\n",
        "from sklearn.metrics import classification_report\n",
        "\n",
        "class_names = ['Classe 0', 'Classe 1']\n",
        "\n",
        "print(classification_report(y_test, y_pred, target_names=class_names))"
      ],
      "execution_count": 51,
      "outputs": [
        {
          "output_type": "stream",
          "name": "stdout",
          "text": [
            "              precision    recall  f1-score   support\n",
            "\n",
            "    Classe 0       0.84      0.88      0.86       114\n",
            "    Classe 1       0.83      0.78      0.80        86\n",
            "\n",
            "    accuracy                           0.83       200\n",
            "   macro avg       0.83      0.83      0.83       200\n",
            "weighted avg       0.83      0.83      0.83       200\n",
            "\n"
          ]
        }
      ]
    },
    {
      "cell_type": "code",
      "metadata": {
        "colab": {
          "base_uri": "https://localhost:8080/"
        },
        "id": "U82mQ05HWG5k",
        "outputId": "162e0490-d9ec-4dc5-834d-9cd56fa1db26"
      },
      "source": [
        "acc_treino = modelo.score(X_train,y_train) \n",
        "print(acc_treino)"
      ],
      "execution_count": 52,
      "outputs": [
        {
          "output_type": "stream",
          "name": "stdout",
          "text": [
            "0.85625\n"
          ]
        }
      ]
    },
    {
      "cell_type": "code",
      "metadata": {
        "colab": {
          "base_uri": "https://localhost:8080/"
        },
        "id": "FW_uyO3u2mS8",
        "outputId": "4eacdb46-fdd5-4cf0-83e3-6dcb94150d9c"
      },
      "source": [
        "# Importando da biblioteca a validação cruzada\n",
        "from sklearn.model_selection import cross_val_score \n",
        "# Importando o k-Fold\n",
        "from sklearn.model_selection import KFold \n",
        "\n",
        "# Divisão das partes (folds)\n",
        "kfold  = KFold(n_splits=5, shuffle=True)\n",
        "# Definição do espaço de teste, conjunto, métrica e modelo\n",
        "scores = cross_val_score(modelo, X, y, cv=kfold, scoring='accuracy')\n",
        "\n",
        "# Resultados\n",
        "print('Resultados da validação cruzada: ', scores)\n",
        "print('Média de acuracias: ', scores.mean())"
      ],
      "execution_count": 53,
      "outputs": [
        {
          "output_type": "stream",
          "name": "stdout",
          "text": [
            "Resultados da validação cruzada:  [0.84 0.83 0.86 0.87 0.8 ]\n",
            "Média de acuracias:  0.8400000000000001\n"
          ]
        }
      ]
    },
    {
      "cell_type": "markdown",
      "metadata": {
        "id": "vUI23WcesMc9"
      },
      "source": [
        ""
      ]
    },
    {
      "cell_type": "markdown",
      "metadata": {
        "id": "HHHQiLzVlLx6"
      },
      "source": [
        "# **Conclusões**\n",
        "\n"
      ]
    },
    {
      "cell_type": "markdown",
      "metadata": {
        "id": "oHK8X_Qfcq1V"
      },
      "source": [
        "Com os dados obtidos quais conclusões foram encontradas e quais passos podem ser necessários para um futuro desenvolvimento do projeto\n"
      ]
    },
    {
      "cell_type": "markdown",
      "metadata": {
        "id": "RgHO4MvK0K8u"
      },
      "source": [
        "Resumo dos Modelos:\n",
        "\n"
      ]
    },
    {
      "cell_type": "code",
      "metadata": {
        "colab": {
          "base_uri": "https://localhost:8080/",
          "height": 203
        },
        "id": "6azmBHMy5Qzw",
        "outputId": "2d43a438-c0a2-48f6-ec5a-baca6e225c9e"
      },
      "source": [
        "import pandas as pd\n",
        "\n",
        "df = pd.read_excel('https://raw.githubusercontent.com/arthursaka/datasets/main/Tabela%20modelos%20e%20acur%C3%A1cias.xlsx')\n",
        "df.head()"
      ],
      "execution_count": 70,
      "outputs": [
        {
          "output_type": "execute_result",
          "data": {
            "text/html": [
              "<div>\n",
              "<style scoped>\n",
              "    .dataframe tbody tr th:only-of-type {\n",
              "        vertical-align: middle;\n",
              "    }\n",
              "\n",
              "    .dataframe tbody tr th {\n",
              "        vertical-align: top;\n",
              "    }\n",
              "\n",
              "    .dataframe thead th {\n",
              "        text-align: right;\n",
              "    }\n",
              "</style>\n",
              "<table border=\"1\" class=\"dataframe\">\n",
              "  <thead>\n",
              "    <tr style=\"text-align: right;\">\n",
              "      <th></th>\n",
              "      <th>MODEL / ACC</th>\n",
              "      <th>ACURÁCIA TESTE</th>\n",
              "      <th>ACURÁCIA TREINO</th>\n",
              "      <th>K-FOLD</th>\n",
              "      <th>DIF TR/TST</th>\n",
              "    </tr>\n",
              "  </thead>\n",
              "  <tbody>\n",
              "    <tr>\n",
              "      <th>0</th>\n",
              "      <td>DECISION TREE</td>\n",
              "      <td>0.94</td>\n",
              "      <td>1.0000</td>\n",
              "      <td>0.843</td>\n",
              "      <td>1.063830</td>\n",
              "    </tr>\n",
              "    <tr>\n",
              "      <th>1</th>\n",
              "      <td>RAMDOM FOREST</td>\n",
              "      <td>0.89</td>\n",
              "      <td>0.9950</td>\n",
              "      <td>0.839</td>\n",
              "      <td>1.117978</td>\n",
              "    </tr>\n",
              "    <tr>\n",
              "      <th>2</th>\n",
              "      <td>KNN</td>\n",
              "      <td>0.86</td>\n",
              "      <td>0.8675</td>\n",
              "      <td>0.871</td>\n",
              "      <td>1.008721</td>\n",
              "    </tr>\n",
              "    <tr>\n",
              "      <th>3</th>\n",
              "      <td>SVM</td>\n",
              "      <td>0.98</td>\n",
              "      <td>0.9875</td>\n",
              "      <td>0.845</td>\n",
              "      <td>1.007653</td>\n",
              "    </tr>\n",
              "    <tr>\n",
              "      <th>4</th>\n",
              "      <td>NAIVE BAYES</td>\n",
              "      <td>0.83</td>\n",
              "      <td>0.8560</td>\n",
              "      <td>0.840</td>\n",
              "      <td>1.031325</td>\n",
              "    </tr>\n",
              "  </tbody>\n",
              "</table>\n",
              "</div>"
            ],
            "text/plain": [
              "     MODEL / ACC  ACURÁCIA TESTE  ACURÁCIA TREINO  K-FOLD  DIF TR/TST\n",
              "0  DECISION TREE            0.94           1.0000   0.843    1.063830\n",
              "1  RAMDOM FOREST            0.89           0.9950   0.839    1.117978\n",
              "2            KNN            0.86           0.8675   0.871    1.008721\n",
              "3            SVM            0.98           0.9875   0.845    1.007653\n",
              "4    NAIVE BAYES            0.83           0.8560   0.840    1.031325"
            ]
          },
          "metadata": {},
          "execution_count": 70
        }
      ]
    },
    {
      "cell_type": "markdown",
      "metadata": {
        "id": "k08YuhCxC1XB"
      },
      "source": [
        "Conclusão: Se o casal consegue estabelecer bem claramente os papéis na relação, valorizam e o tempo quando estão juntos assim como se esforçam para ter um tempo como casal e por fim tem objetivos em comum, a chance de ficarem juntos é seguramente acima de 83%."
      ]
    },
    {
      "cell_type": "code",
      "metadata": {
        "id": "RqHilTm2ab59"
      },
      "source": [
        ""
      ],
      "execution_count": null,
      "outputs": []
    },
    {
      "cell_type": "markdown",
      "metadata": {
        "id": "TFagwvY6O55G"
      },
      "source": [
        "# **Referências e Notebooks**"
      ]
    },
    {
      "cell_type": "markdown",
      "metadata": {
        "id": "Xlhkew8WO72a"
      },
      "source": [
        "https://archive.ics.uci.edu/ml/datasets/Divorce+Predictors+data+set\n"
      ]
    },
    {
      "cell_type": "markdown",
      "metadata": {
        "id": "sSANghakO-PU"
      },
      "source": [
        "Notebook do Projeto, disponível em: www.site.com.br\n"
      ]
    },
    {
      "cell_type": "markdown",
      "metadata": {
        "id": "6dT68k37PAfI"
      },
      "source": [
        "Notebook do Projeto, disponível em: www.site.com.br\n"
      ]
    },
    {
      "cell_type": "markdown",
      "metadata": {
        "id": "2rSAqSPoPBuU"
      },
      "source": [
        "Livro Data Science do Zero, Editora Novatec.\n"
      ]
    }
  ]
}